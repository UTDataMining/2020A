{
 "cells": [
  {
   "cell_type": "markdown",
   "metadata": {},
   "source": [
    "# 課題2 データの記述統計\n",
    "\n",
    "配点\n",
    "- Q1, 4P\n",
    "- Q2-1, 1P\n",
    "- Q2-2, 2P\n",
    "- Q2-3, 1P\n",
    "- Q2-4, 2P"
   ]
  },
  {
   "cell_type": "markdown",
   "metadata": {},
   "source": [
    "## Q1\n",
    "### 中央値\n",
    "中央値はデータの中心傾向を観察するための記述統計の指標です。同じくデータの中心傾向の指標である平均値と比べると、データの外れ値の影響を受けにくという特徴があります。1変数の$n$個のデータを考えた時、中央値を求めるにはまず、データの値の大きさの順に並び替えます。\n",
    "\n",
    "次に、データの数が奇数個の場合は、大きさの順に並び替えた$(n+1)/2$番目の値、データの数が偶数個の場合は、大きさの順に並び替えた$n/2$番目と$n/2+1$の値の平均の値、をそれぞれデータの中央値とします。\n",
    "\n",
    "### 分散\n",
    "分散はデータのばらつきを観察するための記述統計の指標です。個々のデータがデータ全体の平均からどらぐらいばらついているかを表します。以下の通り、個々のデータの値$x_{i}$とデータ全体の平均の値$\\overline{x}$の差の2乗和をデータ数$n$で割ったものが分散になります。\n",
    "\n",
    "$\\frac{1}{n}\\Sigma^{n}_{i=1}(x_{i}-\\overline{x})^{2}$\n",
    "\n",
    "0から100までの整数を要素とする任意の長さのリストを引数で入力として受け取り、以下を要素とするリストを返す`avg_med_var()`関数を完成させてください。\n",
    "- 入力リストの全ての要素の平均値\n",
    "- 入力リストの全ての要素の中央値\n",
    "- 入力リストの全ての要素の分散"
   ]
  },
  {
   "cell_type": "code",
   "execution_count": null,
   "metadata": {},
   "outputs": [],
   "source": [
    "def avg_med_var(input_list):\n",
    "    mean_value=0 #平均値を初期化\n",
    "    med_value=0 # 中央値を初期化\n",
    "    var_value=0 # 分散を初期化\n",
    "    results=[] # 結果のリスト\n",
    "        \n",
    "    input_list.sort() # リストの要素を昇順に並び替え\n",
    "    mid_idx = len(input_list)//2 # リストの中央（長さの半分）のインデックス（必要であれば利用する）\n",
    "    \n",
    "    if ### リストの長さが偶数か奇数か調べる条件のコード ###\n",
    "        med_value= ### リストの長さが偶数の時の中央値を計算するコード ###\n",
    "    else:\n",
    "        med_value = ### リストの長さが奇数の時の中央値を計算するコード ###\n",
    "    \n",
    "    mean_value = sum(input_list)/len(input_list) #平均値\n",
    "    mse_value = 0 # データの値と平均値の差の2乗和を初期化\n",
    "    \n",
    "    for ### input_listの要素を1つずつ処理するコード ###\n",
    "        mse_value = ### データの値と平均値の差の2乗和を更新するコード ###\n",
    "    var_value = ### 分散を計算するコード ###\n",
    "    \n",
    "    results.append(mean_value) \n",
    "    results.append(med_value) \n",
    "    results.append(var_value)\n",
    "    return results   "
   ]
  },
  {
   "cell_type": "markdown",
   "metadata": {},
   "source": [
    "`avg_med_var()`関数が完成したら、以下のセルを実行して動作を確認してください。"
   ]
  },
  {
   "cell_type": "code",
   "execution_count": null,
   "metadata": {},
   "outputs": [],
   "source": [
    "print(avg_med_var([1,4,3,2,5,6,8,7,9,10]))\n",
    "print(avg_med_var([1,4,3,2,5,6,8,7,9,10,11]))"
   ]
  },
  {
   "cell_type": "markdown",
   "metadata": {},
   "source": [
    "以下のセルを実行して、実行結果が上記と同じであること確認してください。結果が異なる場合は、作成した`avg_mean_var`関数に誤りがないか確認してください。"
   ]
  },
  {
   "cell_type": "code",
   "execution_count": null,
   "metadata": {},
   "outputs": [],
   "source": [
    "# avg_med_var関数の結果を検証するための関数\n",
    "import numpy as np\n",
    "def avg_med_var_test(input_list):\n",
    "    return [np.mean(input_list), np.median(input_list), np.var(input_list)]"
   ]
  },
  {
   "cell_type": "code",
   "execution_count": null,
   "metadata": {},
   "outputs": [],
   "source": [
    "print(avg_med_var_test([1,4,3,2,5,6,8,7,9,10]))\n",
    "print(avg_med_var_test([1,4,3,2,5,6,8,7,9,10,11]))"
   ]
  },
  {
   "cell_type": "code",
   "execution_count": null,
   "metadata": {},
   "outputs": [],
   "source": [
    "assert avg_med_var([1,4,3,2,5,6,8,7,9,10]) == avg_med_var_test([1,4,3,2,5,6,8,7,9,10])\n",
    "assert avg_med_var([1,4,3,2,5,6,8,7,9,10,11]) == avg_med_var_test([1,4,3,2,5,6,8,7,9,10,11])"
   ]
  },
  {
   "cell_type": "markdown",
   "metadata": {},
   "source": [
    "# Q2\n",
    "以下のような形式の\"user_score.csv\"ファイルを読み込み、データフレーム`score`を作成します。\n",
    "```Python\n",
    "## user_score.csvファイル\n",
    "user, kokugo, shakai, sugaku, rika\n",
    "1, 30, 43, 51, 63\n",
    "2, 39, 21, 49, 56\n",
    "...\n",
    "```"
   ]
  },
  {
   "cell_type": "code",
   "execution_count": null,
   "metadata": {},
   "outputs": [],
   "source": [
    "# Colaboratoryでは以下を実行して必要なファイルをダウンロード\n",
    "!wget https://raw.githubusercontent.com/UTDataMining/2020A/master/ex2/user_score.csv"
   ]
  },
  {
   "cell_type": "code",
   "execution_count": 1,
   "metadata": {},
   "outputs": [
    {
     "data": {
      "text/html": [
       "<div>\n",
       "<style scoped>\n",
       "    .dataframe tbody tr th:only-of-type {\n",
       "        vertical-align: middle;\n",
       "    }\n",
       "\n",
       "    .dataframe tbody tr th {\n",
       "        vertical-align: top;\n",
       "    }\n",
       "\n",
       "    .dataframe thead th {\n",
       "        text-align: right;\n",
       "    }\n",
       "</style>\n",
       "<table border=\"1\" class=\"dataframe\">\n",
       "  <thead>\n",
       "    <tr style=\"text-align: right;\">\n",
       "      <th></th>\n",
       "      <th>user</th>\n",
       "      <th>kokugo</th>\n",
       "      <th>shakai</th>\n",
       "      <th>sugaku</th>\n",
       "      <th>rika</th>\n",
       "    </tr>\n",
       "  </thead>\n",
       "  <tbody>\n",
       "    <tr>\n",
       "      <th>0</th>\n",
       "      <td>1</td>\n",
       "      <td>30</td>\n",
       "      <td>43</td>\n",
       "      <td>51</td>\n",
       "      <td>63</td>\n",
       "    </tr>\n",
       "    <tr>\n",
       "      <th>1</th>\n",
       "      <td>2</td>\n",
       "      <td>39</td>\n",
       "      <td>21</td>\n",
       "      <td>49</td>\n",
       "      <td>56</td>\n",
       "    </tr>\n",
       "    <tr>\n",
       "      <th>2</th>\n",
       "      <td>3</td>\n",
       "      <td>29</td>\n",
       "      <td>30</td>\n",
       "      <td>23</td>\n",
       "      <td>57</td>\n",
       "    </tr>\n",
       "    <tr>\n",
       "      <th>3</th>\n",
       "      <td>4</td>\n",
       "      <td>95</td>\n",
       "      <td>87</td>\n",
       "      <td>77</td>\n",
       "      <td>100</td>\n",
       "    </tr>\n",
       "    <tr>\n",
       "      <th>4</th>\n",
       "      <td>5</td>\n",
       "      <td>70</td>\n",
       "      <td>71</td>\n",
       "      <td>78</td>\n",
       "      <td>67</td>\n",
       "    </tr>\n",
       "  </tbody>\n",
       "</table>\n",
       "</div>"
      ],
      "text/plain": [
       "   user  kokugo  shakai  sugaku  rika\n",
       "0     1      30      43      51    63\n",
       "1     2      39      21      49    56\n",
       "2     3      29      30      23    57\n",
       "3     4      95      87      77   100\n",
       "4     5      70      71      78    67"
      ]
     },
     "execution_count": 1,
     "metadata": {},
     "output_type": "execute_result"
    }
   ],
   "source": [
    "import pandas as pd\n",
    "score = pd.read_csv('user_score.csv')\n",
    "score.head(5)"
   ]
  },
  {
   "cell_type": "markdown",
   "metadata": {},
   "source": [
    "データフレームの`desribe()`メソッドを使って、各教科ごとの記述統計を確認してください\n",
    "\n",
    "[pandas.DataFrame.describe](https://pandas.pydata.org/pandas-docs/stable/reference/api/pandas.DataFrame.describe.html?highlight=describe#pandas.DataFrame.describe)"
   ]
  },
  {
   "cell_type": "code",
   "execution_count": 52,
   "metadata": {},
   "outputs": [
    {
     "data": {
      "text/html": [
       "<div>\n",
       "<style scoped>\n",
       "    .dataframe tbody tr th:only-of-type {\n",
       "        vertical-align: middle;\n",
       "    }\n",
       "\n",
       "    .dataframe tbody tr th {\n",
       "        vertical-align: top;\n",
       "    }\n",
       "\n",
       "    .dataframe thead th {\n",
       "        text-align: right;\n",
       "    }\n",
       "</style>\n",
       "<table border=\"1\" class=\"dataframe\">\n",
       "  <thead>\n",
       "    <tr style=\"text-align: right;\">\n",
       "      <th></th>\n",
       "      <th>user</th>\n",
       "      <th>kokugo</th>\n",
       "      <th>shakai</th>\n",
       "      <th>sugaku</th>\n",
       "      <th>rika</th>\n",
       "    </tr>\n",
       "  </thead>\n",
       "  <tbody>\n",
       "    <tr>\n",
       "      <td>count</td>\n",
       "      <td>166.000000</td>\n",
       "      <td>166.000000</td>\n",
       "      <td>166.000000</td>\n",
       "      <td>166.000000</td>\n",
       "      <td>166.000000</td>\n",
       "    </tr>\n",
       "    <tr>\n",
       "      <td>mean</td>\n",
       "      <td>83.500000</td>\n",
       "      <td>52.331325</td>\n",
       "      <td>39.602410</td>\n",
       "      <td>45.614458</td>\n",
       "      <td>49.885542</td>\n",
       "    </tr>\n",
       "    <tr>\n",
       "      <td>std</td>\n",
       "      <td>48.064193</td>\n",
       "      <td>21.835858</td>\n",
       "      <td>21.456335</td>\n",
       "      <td>24.236127</td>\n",
       "      <td>21.408130</td>\n",
       "    </tr>\n",
       "    <tr>\n",
       "      <td>min</td>\n",
       "      <td>1.000000</td>\n",
       "      <td>0.000000</td>\n",
       "      <td>4.000000</td>\n",
       "      <td>0.000000</td>\n",
       "      <td>9.000000</td>\n",
       "    </tr>\n",
       "    <tr>\n",
       "      <td>25%</td>\n",
       "      <td>42.250000</td>\n",
       "      <td>35.000000</td>\n",
       "      <td>23.000000</td>\n",
       "      <td>28.000000</td>\n",
       "      <td>31.000000</td>\n",
       "    </tr>\n",
       "    <tr>\n",
       "      <td>50%</td>\n",
       "      <td>83.500000</td>\n",
       "      <td>53.000000</td>\n",
       "      <td>35.000000</td>\n",
       "      <td>43.000000</td>\n",
       "      <td>49.000000</td>\n",
       "    </tr>\n",
       "    <tr>\n",
       "      <td>75%</td>\n",
       "      <td>124.750000</td>\n",
       "      <td>70.000000</td>\n",
       "      <td>53.750000</td>\n",
       "      <td>63.750000</td>\n",
       "      <td>65.750000</td>\n",
       "    </tr>\n",
       "    <tr>\n",
       "      <td>max</td>\n",
       "      <td>166.000000</td>\n",
       "      <td>96.000000</td>\n",
       "      <td>90.000000</td>\n",
       "      <td>100.000000</td>\n",
       "      <td>100.000000</td>\n",
       "    </tr>\n",
       "  </tbody>\n",
       "</table>\n",
       "</div>"
      ],
      "text/plain": [
       "             user      kokugo      shakai      sugaku        rika\n",
       "count  166.000000  166.000000  166.000000  166.000000  166.000000\n",
       "mean    83.500000   52.331325   39.602410   45.614458   49.885542\n",
       "std     48.064193   21.835858   21.456335   24.236127   21.408130\n",
       "min      1.000000    0.000000    4.000000    0.000000    9.000000\n",
       "25%     42.250000   35.000000   23.000000   28.000000   31.000000\n",
       "50%     83.500000   53.000000   35.000000   43.000000   49.000000\n",
       "75%    124.750000   70.000000   53.750000   63.750000   65.750000\n",
       "max    166.000000   96.000000   90.000000  100.000000  100.000000"
      ]
     },
     "execution_count": 52,
     "metadata": {},
     "output_type": "execute_result"
    }
   ],
   "source": [
    "score.describe()"
   ]
  },
  {
   "cell_type": "markdown",
   "metadata": {},
   "source": [
    "### Q2-1\n",
    "データフレーム`score`から各教科の得点がすべて平均点以上であるようなユーザの数を返す`above_mean()`関数を作成してください"
   ]
  },
  {
   "cell_type": "code",
   "execution_count": 152,
   "metadata": {},
   "outputs": [],
   "source": [
    "def above_mean(df):\n",
    "    ... #教科名は決め打ちでおk\n",
    "    return ..."
   ]
  },
  {
   "cell_type": "markdown",
   "metadata": {},
   "source": [
    "`above_mean()`関数が完成したら、以下のセルを実行して動作を確認してください。条件満たすユーザは46人となります。"
   ]
  },
  {
   "cell_type": "code",
   "execution_count": null,
   "metadata": {},
   "outputs": [],
   "source": [
    "above_mean(score)"
   ]
  },
  {
   "cell_type": "code",
   "execution_count": null,
   "metadata": {},
   "outputs": [],
   "source": [
    "assert above_mean(score) == 46"
   ]
  },
  {
   "cell_type": "markdown",
   "metadata": {},
   "source": [
    "### Q2-2\n",
    "ユーザごとの全教科の得点の総和の値を表す'sum'列をデータフレーム`score`に新たに追加したデータフレームを返す`score_sum()`関数を作成してください。以下のようにして、データフレームの指定した列の行方向の値の和を持つシリーズオブジェクト作ることができます。\n",
    "```Python\n",
    "データフレーム[[列1,列2,...,]].sum(axis=1)\n",
    "```\n",
    "[pandas.DataFrame.sum](https://pandas.pydata.org/pandas-docs/stable/reference/api/pandas.DataFrame.sum.html)"
   ]
  },
  {
   "cell_type": "code",
   "execution_count": null,
   "metadata": {},
   "outputs": [],
   "source": [
    "def score_sum(df):\n",
    "    df['sum']= ### ユーザごとの全教科の得点の総和の値を持つシリーズオブジェクトを作成するコード ###\n",
    "    return df"
   ]
  },
  {
   "cell_type": "markdown",
   "metadata": {},
   "source": [
    "`score_sum()`関数が完成したら、以下のセルを実行して動作を確認してください。'sum'列が追加されていることを確認してください。"
   ]
  },
  {
   "cell_type": "code",
   "execution_count": null,
   "metadata": {},
   "outputs": [],
   "source": [
    "score = score_sum(score)\n",
    "score.head(5)"
   ]
  },
  {
   "cell_type": "markdown",
   "metadata": {},
   "source": [
    "全教科の合計得点の上位3人の'user'を1位、2位、3位の順に要素として持つリストを返す`score_top3()`関数を作成させてください。"
   ]
  },
  {
   "cell_type": "code",
   "execution_count": null,
   "metadata": {},
   "outputs": [],
   "source": [
    "def score_top3(df):\n",
    "    sorted_df = ### データフレームを'sum'列の値で並び替えて新しいデータフレームを作成するコード ###\n",
    "    results=[]\n",
    "    results.append(### 'sum'が第1位の'user'を抽出するコード ###)\n",
    "    results.append(### 'sum'が第2位の'user'を抽出するコード ###)\n",
    "    results.append(### 'sum'が第3位の'user'を抽出するコード ###)\n",
    "    return results"
   ]
  },
  {
   "cell_type": "markdown",
   "metadata": {},
   "source": [
    "`score_top3()`関数が完成したら、以下のセルを実行して動作を確認してください。`[39, 4, 50]`の'user'が合計得点の上位3人です。"
   ]
  },
  {
   "cell_type": "code",
   "execution_count": null,
   "metadata": {},
   "outputs": [],
   "source": [
    "score_top3(score)"
   ]
  },
  {
   "cell_type": "code",
   "execution_count": null,
   "metadata": {},
   "outputs": [],
   "source": [
    "assert score_top3(score) == [39,4,50]"
   ]
  },
  {
   "cell_type": "markdown",
   "metadata": {},
   "source": [
    "### Q2-3\n",
    "データフレーム`score`の'sum'列を対象に、以下を階級幅として各階級の度数を要素として持つリストを返す`score_hist()`関数を完成させてください。\n",
    "- 0以上、50以下\n",
    "- 51以上、100以下\n",
    "- 101以上、150以下\n",
    "- 151以上、200以下\n",
    "- 201以上、250以下\n",
    "- 251以上、300以下\n",
    "- 301以上、350以下\n",
    "- 351以上、400以下"
   ]
  },
  {
   "cell_type": "code",
   "execution_count": null,
   "metadata": {},
   "outputs": [],
   "source": [
    "def score_hist(df):\n",
    "    results=[]\n",
    "    results.append(### 'sum'が0以上、50以下のデータ数を抽出するコード ###)\n",
    "    results.append(### 'sum'が51以上、100以下のデータ数を抽出するコード ###)\n",
    "    ...\n",
    "    ...### 繰り返し文で処理してもよい ###\n",
    "    ...\n",
    "    results.append(### 'sum'が351以上、400以下のデータ数を抽出するコード ###)\n",
    "    return results"
   ]
  },
  {
   "cell_type": "markdown",
   "metadata": {},
   "source": [
    "`score_hist()`関数が完成したら、以下のセルを実行して動作を確認してください。`[4, 20, 39, 35, 29, 24, 13, 2]`が'sum'の度数分布です。"
   ]
  },
  {
   "cell_type": "code",
   "execution_count": null,
   "metadata": {},
   "outputs": [],
   "source": [
    "score_hist(score)"
   ]
  },
  {
   "cell_type": "code",
   "execution_count": null,
   "metadata": {},
   "outputs": [],
   "source": [
    "assert score_hist(score) == [4, 20, 39, 35, 29, 24, 13, 2]"
   ]
  },
  {
   "cell_type": "markdown",
   "metadata": {},
   "source": [
    "### Q2-4\n",
    "以下のような形式の\"user_class.csv\"ファイルを読み込み、データフレーム`user_class`を作成します。\n",
    "```Python\n",
    "## user_class.csvファイル\n",
    "'user', 'class'\n",
    "1, 'C'\n",
    "2, 'C'\n",
    "3, 'B'\n",
    "...\n",
    "```"
   ]
  },
  {
   "cell_type": "code",
   "execution_count": null,
   "metadata": {},
   "outputs": [],
   "source": [
    "# Colaboratoryでは以下を実行して必要なファイルをダウンロード\n",
    "!wget https://raw.githubusercontent.com/UTDataMining/2020A/master/ex2/user_class.csv"
   ]
  },
  {
   "cell_type": "code",
   "execution_count": null,
   "metadata": {},
   "outputs": [],
   "source": [
    "user_class = pd.read_csv('user_class.csv')\n",
    "user_class.head(5)"
   ]
  },
  {
   "cell_type": "markdown",
   "metadata": {},
   "source": [
    "'user'の列の値をキーに、2つのデータフレーム、`user_class`と`score、を結合して新しいデータフレームを作成した上で、データフレームの`groupby`メソッドを使って、'class'をインデックス、'class'ごとの'sum'の最高値を列として持つシリーズオブジェクトを返す`score_by_class()`関数を完成させてください。"
   ]
  },
  {
   "cell_type": "code",
   "execution_count": null,
   "metadata": {},
   "outputs": [],
   "source": [
    "def score_by_class(df1, df2):\n",
    "    ### user_classとscoreを結合して新しいデータフレームを作成するコード ###\n",
    "    return ### groupbyメソッドを使って、'class'ごとの'sum'の最高値をシリーズオブジェクトとして抽出するコード ###"
   ]
  },
  {
   "cell_type": "markdown",
   "metadata": {},
   "source": [
    "`score_by_class()`関数が完成したら、以下のセルを実行して動作を確認してください。`{'A': 361, 'B': 349, 'C': 359}`が'class'ごとの'sum'の最高値です。"
   ]
  },
  {
   "cell_type": "code",
   "execution_count": null,
   "metadata": {},
   "outputs": [],
   "source": [
    "score_by_class(score, user_class).to_dict()    "
   ]
  },
  {
   "cell_type": "code",
   "execution_count": null,
   "metadata": {},
   "outputs": [],
   "source": [
    "assert score_by_class(score, user_class).to_dict()   == {'A': 361, 'B': 349, 'C': 359}"
   ]
  }
 ],
 "metadata": {
  "kernelspec": {
   "display_name": "Python 3",
   "language": "python",
   "name": "python3"
  },
  "language_info": {
   "codemirror_mode": {
    "name": "ipython",
    "version": 3
   },
   "file_extension": ".py",
   "mimetype": "text/x-python",
   "name": "python",
   "nbconvert_exporter": "python",
   "pygments_lexer": "ipython3",
   "version": "3.7.3"
  }
 },
 "nbformat": 4,
 "nbformat_minor": 2
}
