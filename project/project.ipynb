{
 "cells": [
  {
   "cell_type": "markdown",
   "metadata": {},
   "source": [
    "# プロジェクト"
   ]
  },
  {
   "cell_type": "code",
   "execution_count": 8,
   "metadata": {},
   "outputs": [],
   "source": [
    "import pandas as pd\n",
    "import numpy as  np\n",
    "from sklearn.preprocessing import StandardScaler\n",
    "from sklearn.linear_model import LogisticRegression\n",
    "from sklearn.model_selection import train_test_split\n",
    "from sklearn.metrics import confusion_matrix,  accuracy_score, precision_score, recall_score, f1_score\n",
    "import matplotlib.pyplot  as plt\n",
    "%matplotlib inline\n",
    "# 必要なモジュールがあれば適宜追加してください"
   ]
  },
  {
   "cell_type": "markdown",
   "metadata": {},
   "source": [
    "あなたは酒造会社のデータ分析部門の責任者です。ワインの理化学検査結果からワインの品質を予測するシステムの検討を行ってほしいとの依頼をCTO（最高技術責任者）から受けました。そのため、実データ（UCI Machine Learning Repositoryに公開されているワインの品質データセットを使います）を用いて、ワインの理化学検査結果に基づく特徴量からワインの品質予測を以下のように試行しました。\n",
    "\n",
    "***白ワイン***のデータセットを使用する。（赤ワインのデータセットではないことに注意してください）\n",
    "\n",
    "[Wine Quality Data Set ](https://archive.ics.uci.edu/ml/datasets/wine+quality)\n",
    "\n",
    "各ワインのデータは以下の11種類の特徴量からなる。\n",
    "- 1 - fixed acidity \n",
    "- 2 - volatile acidity \n",
    "- 3 - citric acid \n",
    "- 4 - residual sugar \n",
    "- 5 - chlorides \n",
    "- 6 - free sulfur dioxide \n",
    "- 7 - total sulfur dioxide \n",
    "- 8 - density \n",
    "- 9 - pH \n",
    "- 10 - sulphates \n",
    "- 11 - alcohol \n",
    "\n",
    "各ワインには0から10の品質スコアが付与されており、11種類の特徴量を元にワインの品質を高品質（ワインのqualityが6以上）、低品質（ワインのqualityが6未満）の2値にして予測する2クラス分類問題を考える。"
   ]
  },
  {
   "cell_type": "code",
   "execution_count": 9,
   "metadata": {},
   "outputs": [],
   "source": [
    "# 白ワインデータセットの読み込み\n",
    "wine = pd.read_csv(\"winequality-white.csv\", sep=\";\")"
   ]
  },
  {
   "cell_type": "code",
   "execution_count": 10,
   "metadata": {},
   "outputs": [
    {
     "name": "stdout",
     "output_type": "stream",
     "text": [
      "3258\n",
      "1640\n"
     ]
    }
   ],
   "source": [
    "# 特徴量\n",
    "X=wine[ ['fixed acidity','volatile acidity','citric acid','residual sugar','chlorides','free sulfur dioxide', 'total sulfur dioxide', 'density', 'pH', 'sulphates','alcohol']].values\n",
    "\n",
    "# 正解ラベルを1（高品質：ワインのqualityが6以上）か0（低品質：ワインのqualityが6未満）とする\n",
    "y=wine['quality'].values\n",
    "y = (y>=6).astype(np.int) \n",
    "print(np.sum(y==1, axis=0)) # 高品質ワインデータの数\n",
    "print(np.sum(y==0, axis=0)) # 低品質ワインデータの数"
   ]
  },
  {
   "cell_type": "markdown",
   "metadata": {},
   "source": [
    "部門の新人で最近データ分析を勉強した部下が次のような分析を行い、ワインの品質は（上記の2クラス分類として）7割ぐらいの精度で予測できそうです、と報告をしてきました。\n",
    "\n",
    "**あなた自身でさらに分析に行い、ワインの理化学検査結果からの品質予測について、具体的な分析結果を元にCTOへ報告するレポートを1枚（A4サイズ）にまとめて作成して提出してください。なお、レポート本文の他1~2枚を図表用に追加してもよいものとします。レポートと合わせて分析に用いたコード（毎回の課題と同じくColabのリンク）も提出してください。**\n",
    "\n",
    "授業で未習の内容（ランダムフォレスト、SVM、ニューラルネットワークなど）を取り入れてもらっても構いませんが、それを持って大きく加点することはありません。むしろ、授業で学んだ内容を元に適切に分析を行っているか、独自の創意工夫があるか、を主に評価します。"
   ]
  },
  {
   "cell_type": "code",
   "execution_count": 11,
   "metadata": {},
   "outputs": [
    {
     "name": "stdout",
     "output_type": "stream",
     "text": [
      "[[244 248]\n",
      " [129 849]]\n",
      "0.7435374149659864\n",
      "0.7739288969917958\n",
      "0.8680981595092024\n",
      "0.8183132530120483\n"
     ]
    },
    {
     "data": {
      "text/html": [
       "<div>\n",
       "<style scoped>\n",
       "    .dataframe tbody tr th:only-of-type {\n",
       "        vertical-align: middle;\n",
       "    }\n",
       "\n",
       "    .dataframe tbody tr th {\n",
       "        vertical-align: top;\n",
       "    }\n",
       "\n",
       "    .dataframe thead th {\n",
       "        text-align: right;\n",
       "    }\n",
       "</style>\n",
       "<table border=\"1\" class=\"dataframe\">\n",
       "  <thead>\n",
       "    <tr style=\"text-align: right;\">\n",
       "      <th></th>\n",
       "      <th>fixed acidity</th>\n",
       "      <th>volatile acidity</th>\n",
       "      <th>citric acid</th>\n",
       "      <th>residual sugar</th>\n",
       "      <th>chlorides</th>\n",
       "      <th>free sulfur dioxide</th>\n",
       "      <th>total sulfur dioxide</th>\n",
       "      <th>density</th>\n",
       "      <th>pH</th>\n",
       "      <th>sulphates</th>\n",
       "      <th>alcohol</th>\n",
       "    </tr>\n",
       "  </thead>\n",
       "  <tbody>\n",
       "    <tr>\n",
       "      <th>weight</th>\n",
       "      <td>0.010844</td>\n",
       "      <td>-0.660754</td>\n",
       "      <td>-0.009396</td>\n",
       "      <td>0.726897</td>\n",
       "      <td>0.030989</td>\n",
       "      <td>0.105547</td>\n",
       "      <td>-0.026054</td>\n",
       "      <td>-0.588193</td>\n",
       "      <td>0.10847</td>\n",
       "      <td>0.203924</td>\n",
       "      <td>1.092625</td>\n",
       "    </tr>\n",
       "  </tbody>\n",
       "</table>\n",
       "</div>"
      ],
      "text/plain": [
       "        fixed acidity  volatile acidity  citric acid  residual sugar  \\\n",
       "weight       0.010844         -0.660754    -0.009396        0.726897   \n",
       "\n",
       "        chlorides  free sulfur dioxide  total sulfur dioxide   density  \\\n",
       "weight   0.030989             0.105547             -0.026054 -0.588193   \n",
       "\n",
       "             pH  sulphates   alcohol  \n",
       "weight  0.10847   0.203924  1.092625  "
      ]
     },
     "execution_count": 11,
     "metadata": {},
     "output_type": "execute_result"
    }
   ],
   "source": [
    "# 訓練データとテストデータに分割\n",
    "X_train, X_test, y_train, y_test = train_test_split(X, y, test_size=0.3, random_state=0, stratify=y) \n",
    "\n",
    "# 標準化\n",
    "sc = StandardScaler()\n",
    "sc.fit(X_train)\n",
    "X_train =  sc.transform(X_train)\n",
    "X_test =  sc.transform(X_test)\n",
    "\n",
    "# ロジスティック回帰モデル\n",
    "lr=LogisticRegression(solver='liblinear',  multi_class='auto') \n",
    "\n",
    "lr.fit(X_train, y_train)    \n",
    "y_pred = lr.predict(X_test)\n",
    "\n",
    "print(confusion_matrix(y_test, y_pred)) # 混同行列\n",
    "print(accuracy_score(y_test, y_pred)) # accuracy\n",
    "print(precision_score(y_test, y_pred)) # precision\n",
    "print(recall_score(y_test, y_pred)) # recall\n",
    "print(f1_score(y_test, y_pred))  # f値\n",
    "\n",
    "# 特徴量ごとのパラメータ重み\n",
    "pd.DataFrame(lr.coef_, index=['weight'], columns=wine.drop(\"quality\", axis=1).columns.values)"
   ]
  }
 ],
 "metadata": {
  "kernelspec": {
   "display_name": "Python 3",
   "language": "python",
   "name": "python3"
  },
  "language_info": {
   "codemirror_mode": {
    "name": "ipython",
    "version": 3
   },
   "file_extension": ".py",
   "mimetype": "text/x-python",
   "name": "python",
   "nbconvert_exporter": "python",
   "pygments_lexer": "ipython3",
   "version": "3.7.3"
  }
 },
 "nbformat": 4,
 "nbformat_minor": 2
}
