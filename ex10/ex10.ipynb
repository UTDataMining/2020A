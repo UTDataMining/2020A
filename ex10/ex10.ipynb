{
 "cells": [
  {
   "cell_type": "markdown",
   "metadata": {},
   "source": [
    "# 課題10 モデル評価と選択\n",
    "\n",
    "配点\n",
    "- Q1から3あわせて10P"
   ]
  },
  {
   "cell_type": "code",
   "execution_count": 48,
   "metadata": {},
   "outputs": [],
   "source": [
    "import pandas as pd\n",
    "import numpy as  np\n",
    "import csv\n",
    "import seaborn as sns\n",
    "from sklearn.preprocessing import StandardScaler\n",
    "from sklearn.preprocessing import PolynomialFeatures\n",
    "from sklearn.linear_model import LogisticRegression\n",
    "from sklearn.pipeline import make_pipeline\n",
    "from sklearn.model_selection import train_test_split\n",
    "from sklearn.model_selection import cross_val_score, cross_validate\n",
    "from sklearn.model_selection import StratifiedKFold\n",
    "from sklearn.model_selection import GridSearchCV\n",
    "from sklearn.model_selection import learning_curve\n",
    "from sklearn.model_selection import validation_curve\n",
    "from sklearn.metrics import precision_recall_curve\n",
    "from sklearn.metrics import confusion_matrix,  accuracy_score, precision_score, recall_score, f1_score\n",
    "import matplotlib.pyplot  as plt\n",
    "%matplotlib inline"
   ]
  },
  {
   "cell_type": "code",
   "execution_count": 3,
   "metadata": {},
   "outputs": [
    {
     "name": "stdout",
     "output_type": "stream",
     "text": [
      "/bin/sh: wget: command not found\r\n"
     ]
    }
   ],
   "source": [
    "# Colaboratoryでは以下を実行して必要なファイルをダウンロード\n",
    "!wget https://raw.githubusercontent.com/UTDataMining/2020A/master/1214/winequality-red.csv"
   ]
  },
  {
   "cell_type": "markdown",
   "metadata": {},
   "source": [
    "## Q モデル評価と選択\n",
    "UCI Machine Learning Repositoryに公開されているワインの品質データセットを用いて、ワインの理化学検査結果に基づく特徴量からワインの品質を予測することを考えます。\n",
    "\n",
    "以下では赤ワインのデータセットを使用します。\n",
    "\n",
    "[Wine Quality Data Set ](https://archive.ics.uci.edu/ml/datasets/wine+quality)\n",
    "\n",
    "各ワインのデータは以下の11種類の特徴量からなります。\n",
    "- 1 - fixed acidity \n",
    "- 2 - volatile acidity \n",
    "- 3 - citric acid \n",
    "- 4 - residual sugar \n",
    "- 5 - chlorides \n",
    "- 6 - free sulfur dioxide \n",
    "- 7 - total sulfur dioxide \n",
    "- 8 - density \n",
    "- 9 - pH \n",
    "- 10 - sulphates \n",
    "- 11 - alcohol \n",
    "\n",
    "また、各ワインには0から10の品質スコアが付与さています。11種類の特徴量を元にワインの品質を高品質（ワインのqualityが6以上）、低品質（ワインのqualityが6未満）の2値にして予測する2クラス分類問題を考えます。"
   ]
  },
  {
   "cell_type": "code",
   "execution_count": 49,
   "metadata": {},
   "outputs": [],
   "source": [
    "df = pd.read_csv(\"winequality-red.csv\", sep=\";\")"
   ]
  },
  {
   "cell_type": "code",
   "execution_count": 50,
   "metadata": {},
   "outputs": [
    {
     "name": "stdout",
     "output_type": "stream",
     "text": [
      "855\n",
      "744\n"
     ]
    }
   ],
   "source": [
    "# 特徴量\n",
    "X=df[ ['fixed acidity','volatile acidity','citric acid','residual sugar','chlorides','free sulfur dioxide', 'total sulfur dioxide', 'density', 'pH', 'sulphates','alcohol']].values\n",
    "\n",
    "# 正解ラベルを1（高品質：ワインのqualityが6以上）か0（低品質：ワインのqualityが6未満）とする\n",
    "y=df['quality'].values\n",
    "y = (y>=6).astype(np.int) \n",
    "print(np.sum(y==1, axis=0)) # 高品質ワインデータの数\n",
    "print(np.sum(y==0, axis=0)) # 低品質ワインデータの数"
   ]
  },
  {
   "cell_type": "code",
   "execution_count": 51,
   "metadata": {},
   "outputs": [],
   "source": [
    "# 訓練データとテストデータに分割\n",
    "X_train, X_test, y_train, y_test = train_test_split(X, y, test_size=0.2, random_state=8, stratify=y) "
   ]
  },
  {
   "cell_type": "markdown",
   "metadata": {},
   "source": [
    "すべての特徴量を使ってロジスティック回帰によりワイン品質の分類をしてみます\n",
    "\n",
    "[LogisticRegression](https://scikit-learn.org/stable/modules/generated/sklearn.linear_model.LogisticRegression.html)"
   ]
  },
  {
   "cell_type": "code",
   "execution_count": 52,
   "metadata": {},
   "outputs": [
    {
     "name": "stdout",
     "output_type": "stream",
     "text": [
      "[[107  42]\n",
      " [ 47 124]]\n",
      "0.721875\n",
      "0.7469879518072289\n",
      "0.7251461988304093\n",
      "0.7359050445103857\n"
     ]
    },
    {
     "data": {
      "text/html": [
       "<div>\n",
       "<style scoped>\n",
       "    .dataframe tbody tr th:only-of-type {\n",
       "        vertical-align: middle;\n",
       "    }\n",
       "\n",
       "    .dataframe tbody tr th {\n",
       "        vertical-align: top;\n",
       "    }\n",
       "\n",
       "    .dataframe thead th {\n",
       "        text-align: right;\n",
       "    }\n",
       "</style>\n",
       "<table border=\"1\" class=\"dataframe\">\n",
       "  <thead>\n",
       "    <tr style=\"text-align: right;\">\n",
       "      <th></th>\n",
       "      <th>fixed acidity</th>\n",
       "      <th>volatile acidity</th>\n",
       "      <th>citric acid</th>\n",
       "      <th>residual sugar</th>\n",
       "      <th>chlorides</th>\n",
       "      <th>free sulfur dioxide</th>\n",
       "      <th>total sulfur dioxide</th>\n",
       "      <th>density</th>\n",
       "      <th>pH</th>\n",
       "      <th>sulphates</th>\n",
       "      <th>alcohol</th>\n",
       "    </tr>\n",
       "  </thead>\n",
       "  <tbody>\n",
       "    <tr>\n",
       "      <th>weight</th>\n",
       "      <td>0.228423</td>\n",
       "      <td>-0.614599</td>\n",
       "      <td>-0.30209</td>\n",
       "      <td>0.090223</td>\n",
       "      <td>-0.135772</td>\n",
       "      <td>0.19444</td>\n",
       "      <td>-0.545962</td>\n",
       "      <td>-0.118573</td>\n",
       "      <td>-0.049804</td>\n",
       "      <td>0.463159</td>\n",
       "      <td>0.862989</td>\n",
       "    </tr>\n",
       "  </tbody>\n",
       "</table>\n",
       "</div>"
      ],
      "text/plain": [
       "        fixed acidity  volatile acidity  citric acid  residual sugar  \\\n",
       "weight       0.228423         -0.614599     -0.30209        0.090223   \n",
       "\n",
       "        chlorides  free sulfur dioxide  total sulfur dioxide   density  \\\n",
       "weight  -0.135772              0.19444             -0.545962 -0.118573   \n",
       "\n",
       "              pH  sulphates   alcohol  \n",
       "weight -0.049804   0.463159  0.862989  "
      ]
     },
     "execution_count": 52,
     "metadata": {},
     "output_type": "execute_result"
    }
   ],
   "source": [
    "# 標準化\n",
    "sc = StandardScaler()\n",
    "sc.fit(X_train)\n",
    "norm_X_train =  sc.transform(X_train)\n",
    "norm_X_test =  sc.transform(X_test)\n",
    "\n",
    "# ロジスティック回帰モデル\n",
    "lr=LogisticRegression(solver='liblinear',  multi_class='auto', C=1) \n",
    "\n",
    "lr.fit(norm_X_train, y_train)    \n",
    "y_pred = lr.predict(norm_X_test)\n",
    "\n",
    "print(confusion_matrix(y_test, y_pred)) # 混同行列\n",
    "print(accuracy_score(y_test, y_pred)) # accuracy\n",
    "print(precision_score(y_test, y_pred)) # precision\n",
    "print(recall_score(y_test, y_pred)) # recall\n",
    "print(f1_score(y_test, y_pred))  # f値\n",
    "\n",
    "# 特徴量ごとのパラメータ重み\n",
    "pd.DataFrame(lr.coef_, index=['weight'], columns=df.drop(\"quality\", axis=1).columns.values)"
   ]
  },
  {
   "cell_type": "markdown",
   "metadata": {},
   "source": [
    "## Q1\n",
    "先のモデルについて、訓練データを用いた**5分割**交差検証により**F値**を評価指標として最適な正則化項の係数を決定してください。\n",
    "\n",
    "- 特徴量を標準化してから交差検証を行ってください。\n",
    "- `LogisticRegression()`の`solver`には`liblinear`を使用してください。\n",
    "- `LogisticRegression()`の引数`C`の値の逆数が正則化項の係数になることに注意してください。\n",
    "- `C`は、 0.1, 1, 10, のいずれかとします。"
   ]
  },
  {
   "cell_type": "code",
   "execution_count": null,
   "metadata": {},
   "outputs": [],
   "source": []
  },
  {
   "cell_type": "markdown",
   "metadata": {},
   "source": [
    "## Q2\n",
    "Q1のモデルについて、さらに多項式を用いた特徴量生成を考えます。訓練データを用いた**5分割**交差検証により**F値**を評価指標として最適な正則化項の係数と多項式の次数の組み合わせ決定してください。\n",
    "\n",
    "- 多項式に用いて生成した特徴量を標準化してから交差検証を行ってください。\n",
    "- `LogisticRegression()`の`solver`には`liblinear`を使用してください。\n",
    "- `LogisticRegression()`の引数`C`の値の逆数が正則化項の係数になることに注意してください。\n",
    "- `C`は、 0.1, 1, 10, のいずれかとします。\n",
    "- 多項式の次数は、1, 2, 3, のいずれかとします。\n"
   ]
  },
  {
   "cell_type": "code",
   "execution_count": null,
   "metadata": {
    "scrolled": true
   },
   "outputs": [],
   "source": []
  },
  {
   "cell_type": "markdown",
   "metadata": {},
   "source": [
    "## Q3\n",
    "Q2の交差検証で決定した正則化項の係数と多項式の次数により訓練データからロジスティック回帰モデルを学習し、テストデータで評価を行ってください。評価指標にはprecision, recall, F値を用いてください。"
   ]
  },
  {
   "cell_type": "code",
   "execution_count": null,
   "metadata": {},
   "outputs": [],
   "source": []
  }
 ],
 "metadata": {
  "kernelspec": {
   "display_name": "Python 3",
   "language": "python",
   "name": "python3"
  },
  "language_info": {
   "codemirror_mode": {
    "name": "ipython",
    "version": 3
   },
   "file_extension": ".py",
   "mimetype": "text/x-python",
   "name": "python",
   "nbconvert_exporter": "python",
   "pygments_lexer": "ipython3",
   "version": "3.7.3"
  }
 },
 "nbformat": 4,
 "nbformat_minor": 2
}
